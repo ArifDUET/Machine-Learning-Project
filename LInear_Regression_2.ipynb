{
 "cells": [
  {
   "cell_type": "code",
   "execution_count": 14,
   "id": "78d6d67b",
   "metadata": {},
   "outputs": [],
   "source": [
    "import pandas as pd\n",
    "import numpy as np \n",
    "import matplotlib.pyplot as plt"
   ]
  },
  {
   "cell_type": "code",
   "execution_count": 21,
   "id": "390fa0e7",
   "metadata": {},
   "outputs": [
    {
     "data": {
      "text/html": [
       "<div>\n",
       "<style scoped>\n",
       "    .dataframe tbody tr th:only-of-type {\n",
       "        vertical-align: middle;\n",
       "    }\n",
       "\n",
       "    .dataframe tbody tr th {\n",
       "        vertical-align: top;\n",
       "    }\n",
       "\n",
       "    .dataframe thead th {\n",
       "        text-align: right;\n",
       "    }\n",
       "</style>\n",
       "<table border=\"1\" class=\"dataframe\">\n",
       "  <thead>\n",
       "    <tr style=\"text-align: right;\">\n",
       "      <th></th>\n",
       "      <th>Hours_study</th>\n",
       "      <th>Test_grade</th>\n",
       "    </tr>\n",
       "  </thead>\n",
       "  <tbody>\n",
       "    <tr>\n",
       "      <th>0</th>\n",
       "      <td>2</td>\n",
       "      <td>57</td>\n",
       "    </tr>\n",
       "    <tr>\n",
       "      <th>1</th>\n",
       "      <td>3</td>\n",
       "      <td>66</td>\n",
       "    </tr>\n",
       "    <tr>\n",
       "      <th>2</th>\n",
       "      <td>4</td>\n",
       "      <td>73</td>\n",
       "    </tr>\n",
       "    <tr>\n",
       "      <th>3</th>\n",
       "      <td>5</td>\n",
       "      <td>76</td>\n",
       "    </tr>\n",
       "    <tr>\n",
       "      <th>4</th>\n",
       "      <td>6</td>\n",
       "      <td>79</td>\n",
       "    </tr>\n",
       "    <tr>\n",
       "      <th>5</th>\n",
       "      <td>7</td>\n",
       "      <td>81</td>\n",
       "    </tr>\n",
       "    <tr>\n",
       "      <th>6</th>\n",
       "      <td>8</td>\n",
       "      <td>90</td>\n",
       "    </tr>\n",
       "    <tr>\n",
       "      <th>7</th>\n",
       "      <td>9</td>\n",
       "      <td>96</td>\n",
       "    </tr>\n",
       "    <tr>\n",
       "      <th>8</th>\n",
       "      <td>10</td>\n",
       "      <td>100</td>\n",
       "    </tr>\n",
       "  </tbody>\n",
       "</table>\n",
       "</div>"
      ],
      "text/plain": [
       "   Hours_study  Test_grade\n",
       "0            2          57\n",
       "1            3          66\n",
       "2            4          73\n",
       "3            5          76\n",
       "4            6          79\n",
       "5            7          81\n",
       "6            8          90\n",
       "7            9          96\n",
       "8           10         100"
      ]
     },
     "execution_count": 21,
     "metadata": {},
     "output_type": "execute_result"
    }
   ],
   "source": [
    "data= pd.read_csv('D:\\ML.csv')  #data table display\n",
    "data.head(10)"
   ]
  },
  {
   "cell_type": "markdown",
   "id": "26ccb24b",
   "metadata": {},
   "source": [
    "# scatter data plotting"
   ]
  },
  {
   "cell_type": "code",
   "execution_count": 31,
   "id": "d85a91fe",
   "metadata": {},
   "outputs": [
    {
     "data": {
      "image/png": "[encoded data removed]",
      "text/plain": [
       "<Figure size 640x480 with 1 Axes>"
      ]
     },
     "metadata": {},
     "output_type": "display_data"
    }
   ],
   "source": [
    "data=data[['Hours_study','Test_grade']]\n",
    "plt.scatter(data['Hours_study'],data['Test_grade'],color='blue',label='data')\n",
    "plt.xlabel('Hours_study')\n",
    "plt.ylabel('Test_grade')\n",
    "plt.show()"
   ]
  },
  {
   "cell_type": "markdown",
   "id": "0bd085e1",
   "metadata": {},
   "source": [
    "# Modeling \n",
    "\n",
    "# using sklearn package to model data"
   ]
  },
  {
   "cell_type": "code",
   "execution_count": 34,
   "id": "0baddd24",
   "metadata": {},
   "outputs": [],
   "source": [
    "# Generating training and testing data from  out data\n",
    "# We are using 80% data for training and 20 % for testing\n",
    "\n",
    "train = data[: (int ((len(data)*0.8)))]\n",
    "test = data[(int ((len (data)*0.8))):]"
   ]
  },
  {
   "cell_type": "code",
   "execution_count": 36,
   "id": "a5b71a99",
   "metadata": {},
   "outputs": [
    {
     "data": {
      "text/html": [
       "<style>#sk-container-id-1 {color: black;background-color: white;}#sk-container-id-1 pre{padding: 0;}#sk-container-id-1 div.sk-toggleable {background-color: white;}#sk-container-id-1 label.sk-toggleable__label {cursor: pointer;display: block;width: 100%;margin-bottom: 0;padding: 0.3em;box-sizing: border-box;text-align: center;}#sk-container-id-1 label.sk-toggleable__label-arrow:before {content: \"▸\";float: left;margin-right: 0.25em;color: #696969;}#sk-container-id-1 label.sk-toggleable__label-arrow:hover:before {color: black;}#sk-container-id-1 div.sk-estimator:hover label.sk-toggleable__label-arrow:before {color: black;}#sk-container-id-1 div.sk-toggleable__content {max-height: 0;max-width: 0;overflow: hidden;text-align: left;background-color: #f0f8ff;}#sk-container-id-1 div.sk-toggleable__content pre {margin: 0.2em;color: black;border-radius: 0.25em;background-color: #f0f8ff;}#sk-container-id-1 input.sk-toggleable__control:checked~div.sk-toggleable__content {max-height: 200px;max-width: 100%;overflow: auto;}#sk-container-id-1 input.sk-toggleable__control:checked~label.sk-toggleable__label-arrow:before {content: \"▾\";}#sk-container-id-1 div.sk-estimator input.sk-toggleable__control:checked~label.sk-toggleable__label {background-color: #d4ebff;}#sk-container-id-1 div.sk-label input.sk-toggleable__control:checked~label.sk-toggleable__label {background-color: #d4ebff;}#sk-container-id-1 input.sk-hidden--visually {border: 0;clip: rect(1px 1px 1px 1px);clip: rect(1px, 1px, 1px, 1px);height: 1px;margin: -1px;overflow: hidden;padding: 0;position: absolute;width: 1px;}#sk-container-id-1 div.sk-estimator {font-family: monospace;background-color: #f0f8ff;border: 1px dotted black;border-radius: 0.25em;box-sizing: border-box;margin-bottom: 0.5em;}#sk-container-id-1 div.sk-estimator:hover {background-color: #d4ebff;}#sk-container-id-1 div.sk-parallel-item::after {content: \"\";width: 100%;border-bottom: 1px solid gray;flex-grow: 1;}#sk-container-id-1 div.sk-label:hover label.sk-toggleable__label {background-color: #d4ebff;}#sk-container-id-1 div.sk-serial::before {content: \"\";position: absolute;border-left: 1px solid gray;box-sizing: border-box;top: 0;bottom: 0;left: 50%;z-index: 0;}#sk-container-id-1 div.sk-serial {display: flex;flex-direction: column;align-items: center;background-color: white;padding-right: 0.2em;padding-left: 0.2em;position: relative;}#sk-container-id-1 div.sk-item {position: relative;z-index: 1;}#sk-container-id-1 div.sk-parallel {display: flex;align-items: stretch;justify-content: center;background-color: white;position: relative;}#sk-container-id-1 div.sk-item::before, #sk-container-id-1 div.sk-parallel-item::before {content: \"\";position: absolute;border-left: 1px solid gray;box-sizing: border-box;top: 0;bottom: 0;left: 50%;z-index: -1;}#sk-container-id-1 div.sk-parallel-item {display: flex;flex-direction: column;z-index: 1;position: relative;background-color: white;}#sk-container-id-1 div.sk-parallel-item:first-child::after {align-self: flex-end;width: 50%;}#sk-container-id-1 div.sk-parallel-item:last-child::after {align-self: flex-start;width: 50%;}#sk-container-id-1 div.sk-parallel-item:only-child::after {width: 0;}#sk-container-id-1 div.sk-dashed-wrapped {border: 1px dashed gray;margin: 0 0.4em 0.5em 0.4em;box-sizing: border-box;padding-bottom: 0.4em;background-color: white;}#sk-container-id-1 div.sk-label label {font-family: monospace;font-weight: bold;display: inline-block;line-height: 1.2em;}#sk-container-id-1 div.sk-label-container {text-align: center;}#sk-container-id-1 div.sk-container {/* jupyter's `normalize.less` sets `[hidden] { display: none; }` but bootstrap.min.css set `[hidden] { display: none !important; }` so we also need the `!important` here to be able to override the default hidden behavior on the sphinx rendered scikit-learn.org. See: https://github.com/scikit-learn/scikit-learn/issues/21755 */display: inline-block !important;position: relative;}#sk-container-id-1 div.sk-text-repr-fallback {display: none;}</style><div id=\"sk-container-id-1\" class=\"sk-top-container\"><div class=\"sk-text-repr-fallback\"><pre>LinearRegression()</pre><b>In a Jupyter environment, please rerun this cell to show the HTML representation or trust the notebook. <br />On GitHub, the HTML representation is unable to render, please try loading this page with nbviewer.org.</b></div><div class=\"sk-container\" hidden><div class=\"sk-item\"><div class=\"sk-estimator sk-toggleable\"><input class=\"sk-toggleable__control sk-hidden--visually\" id=\"sk-estimator-id-1\" type=\"checkbox\" checked><label for=\"sk-estimator-id-1\" class=\"sk-toggleable__label sk-toggleable__label-arrow\">LinearRegression</label><div class=\"sk-toggleable__content\"><pre>LinearRegression()</pre></div></div></div></div></div>"
      ],
      "text/plain": [
       "LinearRegression()"
      ]
     },
     "execution_count": 36,
     "metadata": {},
     "output_type": "execute_result"
    }
   ],
   "source": [
    "from sklearn import linear_model\n",
    "model= linear_model.LinearRegression()\n",
    "train_x = np.array(train[[\"Hours_study\"]])\n",
    "train_y = np.array (train[[\"Test_grade\"]])\n",
    "model.fit(train_x,train_y)"
   ]
  },
  {
   "cell_type": "markdown",
   "id": "6df9ef74",
   "metadata": {},
   "source": [
    "# print the coefficients"
   ]
  },
  {
   "cell_type": "code",
   "execution_count": 37,
   "id": "764c65e4",
   "metadata": {},
   "outputs": [
    {
     "name": "stdout",
     "output_type": "stream",
     "text": [
      "coefficients [[4.82142857]]\n",
      "Intercept :  [50.46428571]\n"
     ]
    }
   ],
   "source": [
    "print(\"coefficients\",model.coef_) #slop \n",
    "print(\"Intercept : \", model.intercept_) #intercept"
   ]
  },
  {
   "cell_type": "markdown",
   "id": "a5ca854c",
   "metadata": {},
   "source": [
    "# ploting the Regression line:"
   ]
  },
  {
   "cell_type": "code",
   "execution_count": 42,
   "id": "ac980521",
   "metadata": {},
   "outputs": [
    {
     "data": {
      "text/plain": [
       "Text(0, 0.5, 'Test_grade')"
      ]
     },
     "execution_count": 42,
     "metadata": {},
     "output_type": "execute_result"
    },
    {
     "data": {
      "image/png": "[encoded data removed]",
      "text/plain": [
       "<Figure size 640x480 with 1 Axes>"
      ]
     },
     "metadata": {},
     "output_type": "display_data"
    }
   ],
   "source": [
    "plt.scatter(train[\"Hours_study\"], train[\"Test_grade\"], color='red')\n",
    "plt.plot(train_x,model.coef_*train_x + model.intercept_ , '-r')\n",
    "plt.xlabel('Hours_study')\n",
    "plt.ylabel('Test_grade')"
   ]
  },
  {
   "cell_type": "markdown",
   "id": "9d3f1b97",
   "metadata": {},
   "source": [
    "# prediction using built-in function"
   ]
  },
  {
   "cell_type": "code",
   "execution_count": 44,
   "id": "c99d2745",
   "metadata": {},
   "outputs": [
    {
     "name": "stdout",
     "output_type": "stream",
     "text": [
      "prediction score :  [[60.10714286]\n",
      " [64.92857143]\n",
      " [69.75      ]\n",
      " [74.57142857]\n",
      " [79.39285714]\n",
      " [84.21428571]\n",
      " [89.03571429]]\n",
      "prediction score :  [[64.92857143]]\n"
     ]
    }
   ],
   "source": [
    "print(\"prediction score : \",model.predict(train_x))\n",
    "print(\"prediction score : \",model.predict(train_x[[1]]))"
   ]
  },
  {
   "cell_type": "markdown",
   "id": "aa309ae5",
   "metadata": {},
   "source": [
    "# function to calculate r-squared, MAE,MSE"
   ]
  },
  {
   "cell_type": "code",
   "execution_count": 69,
   "id": "2541f2cf",
   "metadata": {},
   "outputs": [
    {
     "name": "stdout",
     "output_type": "stream",
     "text": [
      "[[60.10714286]\n",
      " [64.92857143]\n",
      " [69.75      ]\n",
      " [74.57142857]\n",
      " [79.39285714]\n",
      " [84.21428571]\n",
      " [89.03571429]]\n"
     ]
    }
   ],
   "source": [
    "\n",
    "from sklearn.metrics import r2_score, mean_absolute_error,mean_squared_error\n",
    "\n",
    "d=model.predict(train_x)\n",
    "print(d)"
   ]
  },
  {
   "cell_type": "markdown",
   "id": "4dec9d23",
   "metadata": {},
   "source": [
    "# using all values of datset"
   ]
  },
  {
   "cell_type": "code",
   "execution_count": 47,
   "id": "1230520d",
   "metadata": {},
   "outputs": [
    {
     "name": "stdout",
     "output_type": "stream",
     "text": [
      "[[ 2]\n",
      " [ 3]\n",
      " [ 4]\n",
      " [ 5]\n",
      " [ 6]\n",
      " [ 7]\n",
      " [ 8]\n",
      " [ 9]\n",
      " [10]]\n"
     ]
    },
    {
     "name": "stderr",
     "output_type": "stream",
     "text": [
      "C:\\Users\\Arif\\AppData\\Local\\Temp\\ipykernel_6092\\582117573.py:1: FutureWarning: Support for multi-dimensional indexing (e.g. `obj[:, None]`) is deprecated and will be removed in a future version.  Convert to a numpy array before indexing instead.\n",
      "  x=data.Hours_study[:, np.newaxis]  # independent variable ,use\n"
     ]
    }
   ],
   "source": [
    "x=data.Hours_study[:, np.newaxis]  # independent variable ,use\n",
    "y= data.Test_grade.values\n",
    "print(x)"
   ]
  },
  {
   "cell_type": "markdown",
   "id": "7f286276",
   "metadata": {},
   "source": [
    "# model performance verification whether it is fit, good or not using function or metrics\n",
    "\n",
    "# manually calculating R squared"
   ]
  },
  {
   "cell_type": "code",
   "execution_count": 59,
   "id": "43b786cf",
   "metadata": {},
   "outputs": [
    {
     "name": "stdout",
     "output_type": "stream",
     "text": [
      "sum of SSR:  1547.5555555555557\n",
      "sum of SST: 1547.5555555555557\n",
      "R squared using manual calculation:  1.0\n"
     ]
    }
   ],
   "source": [
    "data['SST'] = np.square (data['Test_grade'] -data['Test_grade'].mean())\n",
    "data['SSR'] = np.square(data['Test_grade'] -data['Test_grade'] .mean())\n",
    "print(\"sum of SSR: \",data['SSR'].sum())\n",
    "print(\"sum of SST:\",data['SST'].sum())\n",
    "print(\"R squared using manual calculation: \",data['SSR'].sum()/data['SST'].sum())"
   ]
  },
  {
   "cell_type": "markdown",
   "id": "8d6af0b4",
   "metadata": {},
   "source": [
    "# using built-in function"
   ]
  },
  {
   "cell_type": "code",
   "execution_count": 75,
   "id": "b31df434",
   "metadata": {},
   "outputs": [
    {
     "name": "stdout",
     "output_type": "stream",
     "text": [
      "R Squared using built-in function:  1.0\n"
     ]
    },
    {
     "ename": "NameError",
     "evalue": "name 'mean_absulate_error' is not defined",
     "output_type": "error",
     "traceback": [
      "\u001b[1;31m---------------------------------------------------------------------------\u001b[0m",
      "\u001b[1;31mNameError\u001b[0m                                 Traceback (most recent call last)",
      "Cell \u001b[1;32mIn[75], line 2\u001b[0m\n\u001b[0;32m      1\u001b[0m \u001b[38;5;28mprint\u001b[39m (\u001b[38;5;124m\"\u001b[39m\u001b[38;5;124mR Squared using built-in function: \u001b[39m\u001b[38;5;124m\"\u001b[39m, r2_score(data\u001b[38;5;241m.\u001b[39mTest_grade,y))\n\u001b[1;32m----> 2\u001b[0m \u001b[38;5;28mprint\u001b[39m (\u001b[38;5;124m\"\u001b[39m\u001b[38;5;124mMean Absolute Error: \u001b[39m\u001b[38;5;124m\"\u001b[39m, mean_absulate_error(data\u001b[38;5;241m.\u001b[39mTest_grade,data,test_predict))\n\u001b[0;32m      3\u001b[0m \u001b[38;5;28mprint\u001b[39m(\u001b[38;5;124m\"\u001b[39m\u001b[38;5;124mRoot Mean Squared Error: \u001b[39m\u001b[38;5;124m\"\u001b[39m, np\u001b[38;5;241m.\u001b[39msqrt(mean_squared_error(data\u001b[38;5;241m.\u001b[39mTest_grade,data\u001b[38;5;241m.\u001b[39mtest_predict)))\n",
      "\u001b[1;31mNameError\u001b[0m: name 'mean_absulate_error' is not defined"
     ]
    }
   ],
   "source": [
    "print (\"R Squared using built-in function: \", r2_score(data.Test_grade,y))\n",
    "print (\"Mean Absolute Error: \", mean_absulate_error(data.Test_grade,data,test_predict))\n",
    "print(\"Root Mean Squared Error: \", np.sqrt(mean_squared_error(data.Test_grade,data.test_predict)))"
   ]
  },
  {
   "cell_type": "code",
   "execution_count": null,
   "id": "bc02a939",
   "metadata": {},
   "outputs": [],
   "source": []
  }
 ],
 "metadata": {
  "kernelspec": {
   "display_name": "Python 3 (ipykernel)",
   "language": "python",
   "name": "python3"
  },
  "language_info": {
   "codemirror_mode": {
    "name": "ipython",
    "version": 3
   },
   "file_extension": ".py",
   "mimetype": "text/x-python",
   "name": "python",
   "nbconvert_exporter": "python",
   "pygments_lexer": "ipython3",
   "version": "3.11.3"
  }
 },
 "nbformat": 4,
 "nbformat_minor": 5
}
